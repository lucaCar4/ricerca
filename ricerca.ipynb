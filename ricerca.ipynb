{
 "cells": [
  {
   "cell_type": "markdown",
   "id": "0fe46f97-dc2f-44f5-ab8e-ec20efb82589",
   "metadata": {},
   "source": [
    "# Cycle Cancelling Algorithm\n",
    "\n",
    "## Library import\n",
    "Let's start by importing the Library that will be used to initialize and draw the graph.\n",
    "Before run the following cell you need to install the library:\n",
    "* __Anaconda__ : conda install pydot\n",
    "* __pip__ : pip install pydot\n",
    "* __Arch__ : pacman -Syu python-pydot\n"
   ]
  },
  {
   "cell_type": "code",
   "execution_count": 1,
   "id": "2ac6b01f-6bf5-4a15-a34c-5b5f4be8edd3",
   "metadata": {},
   "outputs": [],
   "source": [
    "import pydot"
   ]
  },
  {
   "cell_type": "code",
   "execution_count": 2,
   "id": "b2904dae-2fb0-47b9-a1f4-108c98630e8f",
   "metadata": {},
   "outputs": [],
   "source": [
    "import numpy as np\n",
    "import math\n",
    "import copy\n",
    "import matplotlib.pyplot as plt\n",
    "from pylatex import Figure, SubFigure\n",
    "from pylatex import Document, Package, NoEscape, Command, Chapter, Section, Subsection, TikZ\n",
    "import os"
   ]
  },
  {
   "cell_type": "code",
   "execution_count": 3,
   "id": "6593cd3d-4459-42a3-aeb4-b40efb59619f",
   "metadata": {},
   "outputs": [],
   "source": [
    "infinite = 1000\n",
    "tex_file = \"ricerca\"\n",
    "\n",
    "doc = None\n",
    "\n",
    "latex_point=None\n",
    "\n",
    "graphs = []"
   ]
  },
  {
   "cell_type": "markdown",
   "id": "e84a65d0-2be3-41b3-a387-dcd3e78b797a",
   "metadata": {},
   "source": [
    "## Graph creation"
   ]
  },
  {
   "cell_type": "markdown",
   "id": "c8827c9b-92d4-4ba1-a049-dcf3ccd0e7ef",
   "metadata": {},
   "source": [
    "This function crates the graph, the graph can have extra attributes, for example the disponibility or the request.\n",
    "\n",
    "The nodes must be positive integer or letter"
   ]
  },
  {
   "cell_type": "code",
   "execution_count": 4,
   "id": "84e76b45-c1b7-43ec-a12a-dec61d8f1f77",
   "metadata": {},
   "outputs": [],
   "source": [
    "def createGraph(nodes, edges, extraNodeAttributes=False) :\n",
    "    graph = pydot.Dot(graph_type='digraph', layout='dot', nodesep='2', rankdir='LR')\n",
    "    if(not extraNodeAttributes) :\n",
    "        for node in nodes:\n",
    "            graph.add_node(pydot.Node(node))\n",
    "    else :\n",
    "        for nodeId, attributes in nodes:\n",
    "            node = pydot.Node(nodeId)\n",
    "            for key, value in attributes.items():\n",
    "                node.set(key, value)\n",
    "            graph.add_node(node)\n",
    "    for edge in edges:\n",
    "        src, dst, weight, capacity, x = edge\n",
    "        edge_obj = pydot.Edge(src, dst, label=f'{weight}/{capacity}/{x}')\n",
    "        graph.add_edge(edge_obj)\n",
    "        #edge_objects.append(edge_obj)\n",
    "\n",
    "    return graph\n"
   ]
  },
  {
   "cell_type": "markdown",
   "id": "9d98ee76-09e2-409a-9c6f-0349d321f907",
   "metadata": {},
   "source": [
    "## Add s and t nodes"
   ]
  },
  {
   "cell_type": "markdown",
   "id": "91ccd9bc-a66d-4942-a3d6-84e9296133bf",
   "metadata": {},
   "source": [
    "This function get the next value, for example if value is A return B, but if number of graph's nodes are more than 25 returns a number\n",
    "\n",
    "it is a way to avoid repetitions of nodes."
   ]
  },
  {
   "cell_type": "code",
   "execution_count": 5,
   "id": "02db2406-a651-4e8d-8e41-652b2f87bcc4",
   "metadata": {},
   "outputs": [],
   "source": [
    "def next(valore, len):\n",
    "    if valore.isdigit() or len > 25:\n",
    "        if (len > 25) and not valore.isdigit() :\n",
    "            print(\"Valore = 1\")\n",
    "            valore = 1\n",
    "        res = str(int(valore) + 1)\n",
    "        return res\n",
    "    elif valore.isalpha():\n",
    "        if valore.lower() == 'z':\n",
    "            return 'A'\n",
    "        else:\n",
    "            return chr(ord(valore.lower()) + 1).upper()\n",
    "    else:\n",
    "        return None"
   ]
  },
  {
   "cell_type": "markdown",
   "id": "d2509dbe-9575-4e63-9b34-ac11cd8e563d",
   "metadata": {},
   "source": [
    "Add extra nodes and edges"
   ]
  },
  {
   "cell_type": "code",
   "execution_count": 6,
   "id": "499b20ef-d4e7-40f4-9811-4c3daf5dbc80",
   "metadata": {},
   "outputs": [],
   "source": [
    "def addExtraNodes(graph) :\n",
    "    nodes = graph.get_nodes()\n",
    "    lastNode = nodes[len(nodes)-1].get_name()\n",
    "    print(lastNode)\n",
    "    sVal = next(lastNode, len(nodes) )\n",
    "    while graph.get_node(sVal) != [] :\n",
    "        sVal = next(sVal, len(nodes) )\n",
    "    s = pydot.Node(sVal)\n",
    "    print(\"TRovato s = \", s.get_name())\n",
    "    while graph.get_node(sVal) != [] or s.get_name() == sVal :\n",
    "        sVal = next(sVal, len(nodes)+1 )\n",
    "    t = pydot.Node(sVal)\n",
    "    print(\"Trovato t = \", t.get_name())\n",
    "    s.set('b', 0)\n",
    "    t.set('b', 0)\n",
    "    for node in graph.get_nodes() :\n",
    "        value = node.get('b')\n",
    "        if value > 0 :\n",
    "            edge = pydot.Edge(s.get_name(), node.get_name(), label=f'{0}/{value}/0')\n",
    "            s.set('b', s.get('b') + value)\n",
    "            graph.add_edge(edge)\n",
    "        elif value < 0 :\n",
    "            edge = pydot.Edge(node.get_name(),t.get_name(), label=f'{0}/{-value}/0')\n",
    "            t.set('b', t.get('b') + value)\n",
    "            graph.add_edge(edge)\n",
    "    graph.add_node(s)\n",
    "    graph.add_node(t)\n",
    "    return graph"
   ]
  },
  {
   "cell_type": "markdown",
   "id": "cbde8ad4-84f2-4620-8c05-384fe3ab0c1f",
   "metadata": {},
   "source": [
    "This function remove the extra nodes and relative edges"
   ]
  },
  {
   "cell_type": "code",
   "execution_count": 7,
   "id": "fc97325e-45dd-44e5-a089-231161430942",
   "metadata": {},
   "outputs": [],
   "source": [
    "def removeExtraNodes(graph) :\n",
    "    s = graph.get_nodes()[-2].get_name()\n",
    "    t = graph.get_nodes()[-1].get_name()\n",
    "    graph.del_node(s)\n",
    "    graph.del_node(t)\n",
    "    for node in graph.get_nodes() :\n",
    "        del node.obj_dict['attributes']['exp']\n",
    "        del node.obj_dict['attributes']['label']\n",
    "    for edge in graph.get_edges() :\n",
    "        if (edge.get_source() == s or edge.get_source() == t) or edge.get_destination() == s or edge.get_destination() == t :\n",
    "            graph.del_edge(edge.get_source(), edge.get_destination())\n",
    "    return graph"
   ]
  },
  {
   "cell_type": "markdown",
   "id": "3e13b512-355e-49c0-9091-c1c402185c4f",
   "metadata": {},
   "source": [
    "## Extra Functions"
   ]
  },
  {
   "cell_type": "code",
   "execution_count": 8,
   "id": "e024b332-a504-4b73-ab85-df3f03fe0928",
   "metadata": {},
   "outputs": [],
   "source": [
    "def printNodes(graph) :\n",
    "    for node in graph.get_nodes() :\n",
    "        print(node)"
   ]
  },
  {
   "cell_type": "markdown",
   "id": "9be20592-0a87-4d0b-b588-35d72a49acc3",
   "metadata": {},
   "source": [
    "### Print Graph Nodes\n",
    "This function print the graph's node"
   ]
  },
  {
   "cell_type": "code",
   "execution_count": 9,
   "id": "7b2e9e8f-cdca-4662-b7c1-cf5e67463fb4",
   "metadata": {},
   "outputs": [],
   "source": [
    "def printEdges(graph) :\n",
    "    for edge in graph.get_edges() :\n",
    "        src = edge.get_source()\n",
    "        dst = edge.get_destination()\n",
    "        label = edge.get_label()\n",
    "        print(f\"Arco da {src} a {dst} con etichetta: {label}\")\n",
    "    "
   ]
  },
  {
   "cell_type": "markdown",
   "id": "bb5c6239-8d67-4ec4-b74d-6fd64487bf38",
   "metadata": {},
   "source": [
    "### Correct direction\n",
    "This function check the correct direction of the edge"
   ]
  },
  {
   "cell_type": "code",
   "execution_count": 10,
   "id": "ef949904-ce39-4b34-a97d-09cf3a2d5775",
   "metadata": {},
   "outputs": [],
   "source": [
    "def isCorrectDirection(graph, src, dst) :\n",
    "    return len(graph.get_edge(src, dst)) == 1"
   ]
  },
  {
   "cell_type": "markdown",
   "id": "5b09d4ba-5eca-40ea-9466-a1d5a639296f",
   "metadata": {},
   "source": [
    "## LATEX Functuons"
   ]
  },
  {
   "cell_type": "code",
   "execution_count": 11,
   "id": "5b03b7c1-6192-4c79-bff4-55e7e3f1871a",
   "metadata": {},
   "outputs": [],
   "source": [
    "def get_pdf() :\n",
    "    global doc\n",
    "    doc.generate_pdf(tex_file, clean_tex=False, compiler=\"lualatex\")"
   ]
  },
  {
   "cell_type": "code",
   "execution_count": 146,
   "id": "da3c75ef-f64a-49bc-a809-6c0803dc5453",
   "metadata": {},
   "outputs": [],
   "source": [
    "def checkLatexFile() :\n",
    "    global doc, latex_point\n",
    "    if not os.path.exists(tex_file + '.tex') or doc == None :\n",
    "        print(\"Entro\")\n",
    "        doc = Document(documentclass='report')\n",
    "        doc.preamble.append(Package('tikz'))\n",
    "        doc.preamble.append(Package('subcaption'))\n",
    "        doc.preamble.append(Package('graphicx'))\n",
    "        doc.preamble.append(NoEscape(r'\\usetikzlibrary{graphs,graphdrawing, quotes}'))\n",
    "        doc.preamble.append(NoEscape(r'\\usetikzlibrary{graphs.standard, arrows.meta}'))\n",
    "        doc.preamble.append(NoEscape(r'\\usegdlibrary{force}'))\n",
    "        doc.preamble.append(Package('geometry'))\n",
    "        doc.preamble.append(NoEscape(r\"\"\"\n",
    "\\geometry{\n",
    "    a4paper,\n",
    "    left=2cm,\n",
    "    right=2cm,\n",
    "    top=2cm,\n",
    "    bottom=2cm,    \n",
    "}\"\"\"))\n",
    "        doc.preamble.append(NoEscape(r'\\title{Ricerca Operativa}'))\n",
    "        doc.preamble.append(NoEscape(r'\\author{luca carabini}'))\n",
    "\n",
    "        doc.append( Command('maketitle') )\n",
    "        doc.append( Command('tableofcontents') )\n",
    "        latex_point = doc\n",
    "        doc.generate_tex(tex_file)"
   ]
  },
  {
   "cell_type": "markdown",
   "id": "eed151a6-a259-4b1a-a742-30424ef2ef4f",
   "metadata": {},
   "source": [
    "### WRITE GRAPH"
   ]
  },
  {
   "cell_type": "code",
   "execution_count": 13,
   "id": "917e0bff-88cf-411d-8efa-c1709f81f3f5",
   "metadata": {},
   "outputs": [],
   "source": [
    "def findCuppleEdges(graph, src, dst) :\n",
    "    if (len(graph.get_edge(src, dst)) > 0 ) and (len(graph.get_edge(dst, src)) > 0 ) :\n",
    "        return \", bend left\"\n",
    "    else :\n",
    "        return \"\""
   ]
  },
  {
   "cell_type": "code",
   "execution_count": 14,
   "id": "16e1b01b-6562-459c-84b8-02e01fb8fd26",
   "metadata": {},
   "outputs": [],
   "source": [
    "def writeOnTex(text) :\n",
    "    checkLatexFile()\n",
    "    if latex_point != None :\n",
    "        latex_point.append(NoEscape(text))\n",
    "    else :\n",
    "        doc.append(NoEscape(text))"
   ]
  },
  {
   "cell_type": "code",
   "execution_count": 147,
   "id": "c974c8da-4045-48bc-925c-6784443aaf50",
   "metadata": {},
   "outputs": [],
   "source": [
    "def writeMultipleGraph() :\n",
    "    global doc\n",
    "    for caption, graph in graphs :\n",
    "        with latex_point.create(Figure(position='htbp')) as figure :\n",
    "            figure.append(NoEscape(r'\\centering'))\n",
    "            with figure.create(SubFigure()) as subfigure :\n",
    "                with subfigure.create(TikZ(options=NoEscape(r'scale=0.8,every node/.style={transform shape},every edge quotes/.style={font=\\small},>={Stealth[width=3mm,length=3mm]}'))) as tikz :\n",
    "                    tikz.append(NoEscape(graph))\n",
    "            if caption != \"\" :\n",
    "                figure.append(NoEscape('\\caption{' + caption + '}'))\n",
    "    latex_point.append(NoEscape(r\"\\newpage\"))"
   ]
  },
  {
   "cell_type": "code",
   "execution_count": 124,
   "id": "423d6e25",
   "metadata": {},
   "outputs": [],
   "source": [
    "def getEdgeLabel(c, u, x, edge) :\n",
    "    cEdge, uEdge, xEdge = edge.get_label().split('/')\n",
    "    label = \"(\"\n",
    "    if c :\n",
    "        label += cEdge\n",
    "    if u:\n",
    "        if len(label) > 1 :\n",
    "            label += \",\"\n",
    "        label += uEdge\n",
    "    if x :\n",
    "        if len(label) > 1 :\n",
    "            label += \",\"\n",
    "        label += xEdge\n",
    "    label += ')'\n",
    "    return label"
   ]
  },
  {
   "cell_type": "code",
   "execution_count": 111,
   "id": "b979328d",
   "metadata": {},
   "outputs": [],
   "source": [
    "def getNodeLabel(state, graph, node) :\n",
    "    label = graph.get_node(node)[0].get('label')\n",
    "    if state and label != None and label != () :\n",
    "        node, val = label\n",
    "        return r'[label=right:\"' + node + \",\" + str(val) + '\"]'\n",
    "    else :\n",
    "        return \"\""
   ]
  },
  {
   "cell_type": "code",
   "execution_count": 119,
   "id": "d707e994-2d67-4c50-a2e9-943cf488b326",
   "metadata": {},
   "outputs": [],
   "source": [
    "def writeGraph(graph, label=False, path=[], c=False, u=False, x=False, caption=\"\") :\n",
    "    global graphs\n",
    "    checkLatexFile()\n",
    "    tikz = r\"\"\"\n",
    "    \\graph [\n",
    "        spring layout,\n",
    "        node distance=4cm,\n",
    "        nodes={draw, circle, swap, fill=cyan!60},\n",
    "        edge quotes={auto,sloped},\n",
    "    ] {\n",
    "    \"\"\"\n",
    "    for edge in graph.get_edges() :\n",
    "        src = edge.get_source()\n",
    "        dst = edge.get_destination()\n",
    "        bend = findCuppleEdges(graph, src, dst)\n",
    "        tikz += rf\"\"\"{src}{getNodeLabel(label, graph, src)} -> [ \"{getEdgeLabel(c, u, x, edge)}\" pos=0.3 {bend} ] {dst}{getNodeLabel(label, graph, dst)};\n",
    "        \"\"\"\n",
    "    tikz += r\"\"\"\n",
    "    }; \"\"\"\n",
    "    graphs.append( (caption,tikz) )"
   ]
  },
  {
   "cell_type": "code",
   "execution_count": 19,
   "id": "c87ad6b9",
   "metadata": {},
   "outputs": [],
   "source": [
    "def startStopGraphWrite(start=True) :\n",
    "    global graphs\n",
    "    if start :\n",
    "        graphs = []\n",
    "    else :\n",
    "        writeMultipleGraph()"
   ]
  },
  {
   "cell_type": "code",
   "execution_count": 20,
   "id": "7bfa30eb-acdd-444e-bb1f-84313f438647",
   "metadata": {},
   "outputs": [],
   "source": [
    "def chapter(chapterName, text=\"\") :\n",
    "    global latex_point\n",
    "    checkLatexFile()\n",
    "    with doc.create(Chapter(chapterName)) as chapter:\n",
    "        doc.append(text)\n",
    "        latex_point = chapter"
   ]
  },
  {
   "cell_type": "code",
   "execution_count": 21,
   "id": "e6d453b9-7b51-42b6-95dc-d7d787dc58fd",
   "metadata": {},
   "outputs": [],
   "source": [
    "def section(sectionName, text=\"\") :\n",
    "    global latex_point\n",
    "    checkLatexFile()\n",
    "    with doc.create(Section(sectionName)) as section:\n",
    "        doc.append(text)\n",
    "        latex_point = section"
   ]
  },
  {
   "cell_type": "code",
   "execution_count": 22,
   "id": "1a359e59-1f48-477c-acf4-b69db199706d",
   "metadata": {},
   "outputs": [],
   "source": [
    "def subsection(subName, text=\"\") :\n",
    "    global latex_point\n",
    "    checkLatexFile()\n",
    "    with doc.create(Subsection(subName)) as sub:\n",
    "        sub.append(text)\n",
    "        latex_point = sub"
   ]
  },
  {
   "cell_type": "markdown",
   "id": "dfec738e-f32d-4024-96f8-c9687f8e2c73",
   "metadata": {},
   "source": [
    "## Feasible flow"
   ]
  },
  {
   "cell_type": "markdown",
   "id": "6ff9c63d-d41b-4a42-a9c8-925b8041b4b0",
   "metadata": {},
   "source": [
    "This function is the break clause for node labeling.\n",
    "\n",
    "Return $\\textbf{True}$ if all nodes that have a label are expanded"
   ]
  },
  {
   "cell_type": "code",
   "execution_count": 23,
   "id": "d5aa4399-5101-4942-bc0a-036f1371bc06",
   "metadata": {},
   "outputs": [],
   "source": [
    "def stopClause(graph) :\n",
    "    for node in graph.get_nodes() :\n",
    "        if(len(node.get('label')) != 0 and node.get('exp') == False) :\n",
    "            return False\n",
    "    return True"
   ]
  },
  {
   "cell_type": "markdown",
   "id": "b779ae60-faac-41cf-ba8e-611a39514419",
   "metadata": {},
   "source": [
    "This function initialize the label and the exp variable in each node"
   ]
  },
  {
   "cell_type": "code",
   "execution_count": 24,
   "id": "bd39e7cf-d2ef-4996-ab6b-bbc170d036cc",
   "metadata": {},
   "outputs": [],
   "source": [
    "def initLabel(graph) :\n",
    "    for node in graph.get_nodes() :\n",
    "        node.set('exp', False)\n",
    "        node.set('label', ())\n",
    "    return graph"
   ]
  },
  {
   "cell_type": "markdown",
   "id": "5470ae26-4e82-4029-acad-d7e28ec53014",
   "metadata": {},
   "source": [
    "This function labels the nodes that are connected  to node i:\n",
    "* if the edge have $\\textbf{i}$ as $\\textbf{source}$ the label will be $\\textbf{i}$ and minimum between the delta of i and the capacity - x of the edge\n",
    "* if the edge have $\\textbf{i}$ as $\\textbf{destination}$ the label will be $\\textbf{-i}$ and minimum between the delta of i and the capacity - x of the edge"
   ]
  },
  {
   "cell_type": "code",
   "execution_count": 72,
   "id": "b740fddd-9f0a-4ec9-b6e8-91513c51a4ec",
   "metadata": {},
   "outputs": [],
   "source": [
    "def getConnectedEdgs(graph, i) :\n",
    "    src = i.get_name()\n",
    "    prev, delta_i = i.get('label')\n",
    "    for edge in graph.get_edges() :\n",
    "        src_e = edge.get_source()\n",
    "        dst = edge.get_destination()\n",
    "        w,capacity, x = edge.get_label().split('/')\n",
    "        if(src == src_e and graph.get_node(dst)[0].get('label') == ()) :\n",
    "            if int(x) < int(capacity) :\n",
    "                graph.get_node(dst)[0].set('label', (src, min(int(capacity)-int(x), int(delta_i))))\n",
    "                writeGraph(graph = graph, u=True, x=True, caption=f\"Etichetto {dst}\", label=True)\n",
    "                print(f\"Etichetto {dst} con etichetta: {graph.get_node(dst)[0].get('label')}\")\n",
    "        elif dst == src and int(x) > 0 and graph.get_node(src_e)[0].get('label') == ():\n",
    "            graph.get_node(src_e)[0].set('label', ('-' + src , min(int(capacity)-int(x), int(delta_i))))\n",
    "            writeGraph(graph = graph, u=True, x=True, caption=f\"Etichetto {src_e}\", label=True)\n",
    "            print(f\"Etichetto {src_e} con etichetta: {graph.get_node(src_e)[0].get('label')}\")\n",
    "    graph.get_node(src)[0].set('exp', True)\n",
    "    return graph"
   ]
  },
  {
   "cell_type": "markdown",
   "id": "53ba81c3-14cb-4efb-9e47-1f417d21dd53",
   "metadata": {},
   "source": [
    "### Augmenting Path\n",
    "This function obtains the augmenting Path "
   ]
  },
  {
   "cell_type": "code",
   "execution_count": 45,
   "id": "bc997b7a-dbb7-4526-86c7-c7ce834641fa",
   "metadata": {},
   "outputs": [],
   "source": [
    "def getAugmentingPath(graph) :\n",
    "    s = graph.get_nodes()[-2]\n",
    "    node = graph.get_nodes()[-1]\n",
    "    src, d_t = node.get('label')\n",
    "    while(node.get_name() != s.get_name()) :\n",
    "        src, x = node.get('label')\n",
    "        dst = node.get_name()\n",
    "        if isCorrectDirection(graph, src, dst) :\n",
    "            w,c,x_edge = graph.get_edge(src,dst)[0].get_label().split('/')\n",
    "            x_edge_old = x_edge\n",
    "            x_edge = int(x_edge) + int(d_t)\n",
    "            graph.get_edge(src,dst)[0].set_label(f'{w}/{c}/{x_edge}')\n",
    "        else :\n",
    "            w,c,x_edge = graph.get_edge(dst,src)[0].get_label().split('/')\n",
    "            x_edge = int(x_edge) - int(x)\n",
    "            graph.get_edge(dst,src)[0].set_label(f'{w}/{c}/{x_edge}')\n",
    "        node = graph.get_node(src)[0]\n",
    "    return graph, d_t"
   ]
  },
  {
   "cell_type": "markdown",
   "id": "66454062-1d53-454e-9c53-81136153806c",
   "metadata": {},
   "source": [
    "This function labels the graph until all nodes that have a label are expanded"
   ]
  },
  {
   "cell_type": "code",
   "execution_count": 112,
   "id": "926b3def-f87b-48f6-b432-50a1fef7ea75",
   "metadata": {},
   "outputs": [],
   "source": [
    "def augmentingPath(graph) :\n",
    "    startStopGraphWrite()\n",
    "    s = graph.get_nodes()[-2].get_name()\n",
    "    graph.get_nodes()[-2].set('label', (s, infinite))\n",
    "    writeGraph(graph = graph, u=True, x=True, caption=f\"Etichetto {s}\", label=True)\n",
    "    while(not stopClause(graph)) :\n",
    "        for node in graph.get_nodes() :\n",
    "            label = node.get('label')\n",
    "            #print(f\"Node {node.get_name()} con label {label}\")\n",
    "            if(len(label) != 0 and node.get('exp') == False) :\n",
    "                graph = getConnectedEdgs(graph, node)\n",
    "    startStopGraphWrite(False)\n",
    "    return graph"
   ]
  },
  {
   "cell_type": "markdown",
   "id": "17bf849e-f03b-43a9-a15e-a116f313bd80",
   "metadata": {},
   "source": [
    "### Feasible Flow\n",
    "This function find the feasible flow while until node t can be reached"
   ]
  },
  {
   "cell_type": "code",
   "execution_count": 44,
   "id": "7aa0837d-336b-468c-bd0d-48e633645b4b",
   "metadata": {},
   "outputs": [],
   "source": [
    "def getFeasibleFlow(graph) :\n",
    "    section('Ricerco il flusso ammissibile')\n",
    "    addExtraNodes(graph)\n",
    "    v = 0\n",
    "    subsection('Iterazione 0')\n",
    "    init_graph = initLabel(graph)\n",
    "    new_graph = augmentingPath(init_graph)\n",
    "    count=0\n",
    "    while(graph.get_nodes()[-1].get_label() != ()) :\n",
    "        new_graph, d_t = getAugmentingPath(graph)\n",
    "        graph = new_graph\n",
    "        v += d_t\n",
    "        print(\"V = \", v)\n",
    "        init_graph = initLabel(graph)\n",
    "        count += 1\n",
    "        subsection(f'Iterazione {count}')\n",
    "        new_graph = augmentingPath(init_graph)\n",
    "    removeExtraNodes(graph)\n",
    "    printEdges(graph)\n",
    "    return graph"
   ]
  },
  {
   "cell_type": "markdown",
   "id": "d18a1680-3165-4fd2-981d-fa1327bfeea4",
   "metadata": {},
   "source": [
    "## Find the Negative Path\n"
   ]
  },
  {
   "cell_type": "markdown",
   "id": "2c7bbc34-6cd6-4618-8418-109dfc23fc38",
   "metadata": {},
   "source": [
    "### Bellman Ford\n",
    "This a simple Bellman Ford algorithm, but I take the pred of each node to find the negative path "
   ]
  },
  {
   "cell_type": "code",
   "execution_count": 29,
   "id": "d47b2a13-4095-4eff-9e8e-47932fb75591",
   "metadata": {},
   "outputs": [],
   "source": [
    "def bellmanFord(graph, source):\n",
    "    n = len(graph.get_nodes())\n",
    "    d = {}\n",
    "    p = {}\n",
    "    for node in graph.get_nodes() :\n",
    "        d[node.get_name()] = infinite\n",
    "        p[node.get_name()] = -1\n",
    "    d[source] = 0\n",
    "    edges = graph.get_edges()\n",
    "    edges.sort(key=lambda x: x.get_source())\n",
    "    for k in range(n-1) :\n",
    "        for edge in  edges:\n",
    "            src = edge.get_source()\n",
    "            dst = edge.get_destination()\n",
    "            w,c,x = edge.get_label().split('/')\n",
    "            if (d[dst] > d[src]+int(w)) :\n",
    "                d[dst] = d[src]+int(w)\n",
    "                p[dst] = src\n",
    "\n",
    "    #Try to find a negative Path\n",
    "    for edge in edges:\n",
    "        src = edge.get_source()\n",
    "        dst = edge.get_destination()\n",
    "        w,c,x = edge.get_label().split('/')\n",
    "        if (d[dst] > d[src]+int(w)) :\n",
    "            #print(\"Cerco Ciclo neg\")\n",
    "            negativePath = [(src,dst)]\n",
    "            temp = src\n",
    "            count = 0\n",
    "            print(p)\n",
    "            while temp != dst and count < len(graph.get_edges()): \n",
    "                #print(f\"{temp != dst},dst = {dst}, temp = {temp} \")\n",
    "                count += 1\n",
    "                #print(\"Aggiungo \", temp)\n",
    "                negativePath.append((p[temp], temp))\n",
    "                temp = p[temp]\n",
    "                #print(\"New Temp \", temp)\n",
    "            #Check if the negative path is correct\n",
    "            if ( count < len(graph.get_edges())) :\n",
    "                negativePath.reverse()\n",
    "                #print(f\"Trovato : {negativePath}\")\n",
    "                return negativePath\n",
    "    return []\n"
   ]
  },
  {
   "cell_type": "markdown",
   "id": "8bcf9be7-1174-4230-a183-1b350596de20",
   "metadata": {},
   "source": [
    "### Find Path Function\n",
    "This function do the Bellman-Ford algorithm until it finds a Negative Path"
   ]
  },
  {
   "cell_type": "code",
   "execution_count": 30,
   "id": "62d9e03b-089e-4898-bc37-3ea29ce8c171",
   "metadata": {},
   "outputs": [],
   "source": [
    "def findNegPath(graph) :\n",
    "    print(\"Inizio ricerca di ciclo negativo\")\n",
    "    for node in graph.get_nodes() :\n",
    "        path = bellmanFord(graph, node.get_name())\n",
    "        if len(path) > 0 :\n",
    "            return path\n",
    "    return []"
   ]
  },
  {
   "cell_type": "markdown",
   "id": "7691811f-60e0-47fd-89cb-2e36c8531158",
   "metadata": {},
   "source": [
    "## CYCLE"
   ]
  },
  {
   "cell_type": "markdown",
   "id": "a9da9745-3041-4ce5-b25a-7afea267e7e6",
   "metadata": {},
   "source": [
    "This function delete edges with 0 capacity"
   ]
  },
  {
   "cell_type": "code",
   "execution_count": 31,
   "id": "d771b83e-51a3-4e5b-a8a4-75df3aa6782e",
   "metadata": {},
   "outputs": [],
   "source": [
    "def delZeroCapacityEdges(graph) :\n",
    "    for edge in graph.get_edges() :\n",
    "        src = edge.get_source()\n",
    "        dst = edge.get_destination()\n",
    "        w,c,x = edge.get_label().split('/')\n",
    "        if (int(c) <= 0) :\n",
    "            print(f\"rimuovo arco da {src} a {dst} con capacità {int(c)} e x {int(x)}\")\n",
    "            graph.del_edge(src, dst)\n",
    "    return graph"
   ]
  },
  {
   "cell_type": "markdown",
   "id": "e4b5033b-ec5b-45e3-b96d-02329d5675d4",
   "metadata": {},
   "source": [
    "This Function take a graph only with original edges, and return a new graph also with the back edges, based on $\\textbf{x}$ parameter"
   ]
  },
  {
   "cell_type": "code",
   "execution_count": 32,
   "id": "9ce5ed8a-8096-4b21-8ebc-03a478d84eca",
   "metadata": {},
   "outputs": [],
   "source": [
    "def setBackEdge(graph) :\n",
    "    for edge in graph.get_edges() :\n",
    "        src = edge.get_source()\n",
    "        dst = edge.get_destination()\n",
    "        w,c,x = edge.get_label().split('/')\n",
    "        if (int(x) > 0) :\n",
    "            label = f\"{-int(w)}/{int(x)}/{0}\"\n",
    "            if (len(graph.get_edge(dst, src)) > 0) :\n",
    "                    graph.get_edge(dst, src)[0].set_label(label)\n",
    "            else :\n",
    "                backEdge = pydot.Edge(dst, src, label=label)\n",
    "                graph.add_edge(backEdge)\n",
    "            edge.set_label(f\"{w}/{int(c)-int(x)}/{x}\")\n",
    "    return delZeroCapacityEdges(graph)            "
   ]
  },
  {
   "cell_type": "markdown",
   "id": "1a00d236-6672-47f0-99c0-6e092a3c34d5",
   "metadata": {},
   "source": [
    "This function increase or decrease the x of graph's edges, based of a delta, the negative path and its dircection"
   ]
  },
  {
   "cell_type": "code",
   "execution_count": 33,
   "id": "56c3023f-b740-4ae5-b8f3-0495ba5d34d1",
   "metadata": {},
   "outputs": [],
   "source": [
    "def updateX(graph, path, delta) :\n",
    "    for src,dst in path :\n",
    "        if isCorrectDirection(graph, src, dst) :\n",
    "            w,c,x = graph.get_edge(src,dst)[0].get_label().split('/')\n",
    "            x = int(x)\n",
    "            x += delta\n",
    "            graph.get_edge(src,dst)[0].set_label(f\"{w}/{c}/{x}\")\n",
    "        else :\n",
    "            w,c,x = graph.get_edge(dst,src)[0].get_label().split('/')\n",
    "            x = int(x)\n",
    "            x -= delta\n",
    "            graph.get_edge(dst,src)[0].set_label(f\"{w}/{c}/{x}\")\n",
    "    return graph"
   ]
  },
  {
   "cell_type": "markdown",
   "id": "a23df47d-4829-4e75-9cb8-8c1b853aa208",
   "metadata": {},
   "source": [
    "This function, return the correct delta, that is the minimum capacity of path"
   ]
  },
  {
   "cell_type": "code",
   "execution_count": 34,
   "id": "cff73269-bc06-4898-b45f-a2fdc24a3578",
   "metadata": {},
   "outputs": [],
   "source": [
    "def getMinDelta(graph,path) :\n",
    "    minDelta = infinite\n",
    "    currentDelta = infinite\n",
    "    print(\"Path\",path)\n",
    "    for src,dst in path :\n",
    "        if isCorrectDirection(graph, src, dst) :\n",
    "            w,c,x = graph.get_edge(src, dst)[0].get_label().split('/')\n",
    "            currentDelta = int(c)\n",
    "        else :\n",
    "            w,c,x = graph.get_edge(dst, src)[0].get_label().split('/')\n",
    "            currentDelta = int(c)\n",
    "        if currentDelta < minDelta :\n",
    "            minDelta = currentDelta\n",
    "    return minDelta\n",
    "            "
   ]
  },
  {
   "cell_type": "markdown",
   "id": "29557d1c-7d72-4b90-af7e-a1d1df82a986",
   "metadata": {},
   "source": [
    "This is the main function and performs the following operations:\n",
    "* finds a $\\textbf{feassible flow}$\n",
    "* finds a negative path\n",
    "* updates the x parameter of each node\n"
   ]
  },
  {
   "cell_type": "code",
   "execution_count": 41,
   "id": "7906d8b2-153e-4c3a-b354-b5f409419a65",
   "metadata": {},
   "outputs": [],
   "source": [
    "def cycleCancelling(graph) :\n",
    "    chapter('Cycle Cancelling')\n",
    "    startStopGraphWrite()\n",
    "    writeGraph(graph, c=True, u=True)\n",
    "    startStopGraphWrite(False)\n",
    "    xGraph = getFeasibleFlow(graph)\n",
    "    stop = False\n",
    "    count = 0\n",
    "    while(not stop) :\n",
    "        print(\"Iterazione \", count)\n",
    "        count += 1\n",
    "        new_graph = setBackEdge(copy.deepcopy(xGraph))\n",
    "        path = findNegPath(new_graph)\n",
    "        if (len(path) > 0) :\n",
    "            delta = getMinDelta(new_graph, path)\n",
    "            print(\"Delta = \", delta)\n",
    "            updateX(xGraph, path, delta)\n",
    "        else :\n",
    "            stop = True\n",
    "    print(\"Finito\")\n",
    "    printEdges(xGraph)\n",
    "    get_pdf()\n",
    "        "
   ]
  },
  {
   "cell_type": "code",
   "execution_count": null,
   "id": "6e9f33d5-8519-4ef8-8564-1b69d13e86a5",
   "metadata": {},
   "outputs": [
    {
     "name": "stdout",
     "output_type": "stream",
     "text": [
      "1 [b=4];\n",
      "2 [b=0];\n",
      "3 [b=0];\n",
      "4 [b=0];\n",
      "5 [b=0];\n",
      "6 [b=-4];\n",
      "Entro\n",
      "6\n",
      "TRovato s =  7\n",
      "Trovato t =  8\n",
      "Etichetto 1 con etichetta: ('7', 4)\n",
      "Etichetto 2 con etichetta: ('1', 3)\n",
      "Etichetto 3 con etichetta: ('1', 3)\n",
      "Etichetto 4 con etichetta: ('2', 1)\n",
      "Etichetto 5 con etichetta: ('2', 3)\n",
      "Etichetto 6 con etichetta: ('4', 1)\n",
      "Etichetto 8 con etichetta: ('6', 1)\n",
      "V =  1\n",
      "Etichetto 1 con etichetta: ('7', 3)\n",
      "Etichetto 2 con etichetta: ('1', 2)\n",
      "Etichetto 3 con etichetta: ('1', 3)\n",
      "Etichetto 5 con etichetta: ('2', 2)\n",
      "Etichetto 4 con etichetta: ('5', 2)\n",
      "Etichetto 6 con etichetta: ('5', 2)\n",
      "Etichetto 8 con etichetta: ('6', 2)\n",
      "V =  3\n",
      "Etichetto 1 con etichetta: ('7', 1)\n",
      "Etichetto 3 con etichetta: ('1', 1)\n",
      "Etichetto 5 con etichetta: ('3', 1)\n",
      "Etichetto 2 con etichetta: ('-5', 1)\n",
      "Etichetto 4 con etichetta: ('5', 1)\n",
      "Etichetto 6 con etichetta: ('5', 1)\n",
      "Etichetto 8 con etichetta: ('6', 1)\n",
      "V =  4\n",
      "Arco da 1 a 2 con etichetta: 2/3/3\n",
      "Arco da 1 a 3 con etichetta: 5/3/1\n",
      "Arco da 2 a 3 con etichetta: 1/1/0\n",
      "Arco da 2 a 4 con etichetta: 5/1/1\n",
      "Arco da 2 a 5 con etichetta: 7/4/2\n",
      "Arco da 2 a 1 con etichetta: 7/4/0\n",
      "Arco da 3 a 5 con etichetta: 2/2/1\n",
      "Arco da 4 a 6 con etichetta: 5/3/1\n",
      "Arco da 5 a 4 con etichetta: 3/2/0\n",
      "Arco da 5 a 6 con etichetta: 2/3/3\n",
      "Iterazione  0\n",
      "rimuovo arco da 1 a 2 con capacità 0 e x 3\n",
      "rimuovo arco da 2 a 4 con capacità 0 e x 1\n",
      "rimuovo arco da 5 a 6 con capacità 0 e x 3\n",
      "Inizio ricerca di ciclo negativo\n",
      "{'1': '3', '2': '5', '3': '2', '4': '5', '5': '3', '6': '4'}\n",
      "Path [('3', '5'), ('5', '2'), ('2', '3')]\n",
      "Delta =  1\n",
      "Iterazione  1\n",
      "rimuovo arco da 1 a 2 con capacità 0 e x 3\n",
      "rimuovo arco da 2 a 3 con capacità 0 e x 1\n",
      "rimuovo arco da 2 a 4 con capacità 0 e x 1\n",
      "rimuovo arco da 3 a 5 con capacità 0 e x 2\n",
      "rimuovo arco da 5 a 6 con capacità 0 e x 3\n",
      "Inizio ricerca di ciclo negativo\n",
      "Finito\n",
      "Arco da 1 a 2 con etichetta: 2/3/3\n",
      "Arco da 1 a 3 con etichetta: 5/3/1\n",
      "Arco da 2 a 3 con etichetta: 1/1/1\n",
      "Arco da 2 a 4 con etichetta: 5/1/1\n",
      "Arco da 2 a 5 con etichetta: 7/4/1\n",
      "Arco da 2 a 1 con etichetta: 7/4/0\n",
      "Arco da 3 a 5 con etichetta: 2/2/2\n",
      "Arco da 4 a 6 con etichetta: 5/3/1\n",
      "Arco da 5 a 4 con etichetta: 3/2/0\n",
      "Arco da 5 a 6 con etichetta: 2/3/3\n"
     ]
    }
   ],
   "source": [
    "nodes = [('1', {'b':4}),\n",
    "              ('2', {'b':0}),\n",
    "              ('3', {'b':0}),\n",
    "              ('4', {'b':0}),\n",
    "              ('5', {'b':0}),\n",
    "              ('6', {'b':-4})\n",
    "        ]\n",
    "# Aggiungere archi con attributi di peso e capacità\n",
    "edges = [ ('1', '2', 2, 3,0), ('1', '3', 5, 3, 0), \n",
    "          ('2', '3', 1, 1, 0), ('2', '4', 5, 1, 0), ('2', '5', 7, 4, 0), ('2', '1', 7, 4, 0), \n",
    "          ('3', '5', 2, 2, 0), \n",
    "          ('4', '6', 5, 3, 0),\n",
    "          ('5', '4', 3, 2, 0), ('5', '6', 2, 3, 0) \n",
    "        ]\n",
    "graph = createGraph(nodes, edges, True)\n",
    "printNodes(graph)\n",
    "cycleCancelling(graph)\n"
   ]
  },
  {
   "cell_type": "code",
   "execution_count": 126,
   "id": "0542baf3-9c00-408d-8fca-38b9fc6f56e4",
   "metadata": {},
   "outputs": [
    {
     "name": "stdout",
     "output_type": "stream",
     "text": [
      "Entro\n",
      "5\n",
      "TRovato s =  6\n",
      "Trovato t =  7\n",
      "Etichetto 1 con etichetta: ('6', 4)\n",
      "Etichetto 2 con etichetta: ('6', 3)\n",
      "Etichetto 3 con etichetta: ('1', 4)\n",
      "Etichetto 4 con etichetta: ('1', 4)\n",
      "Etichetto 5 con etichetta: ('3', 3)\n",
      "Etichetto 7 con etichetta: ('5', 3)\n",
      "V =  3\n",
      "Etichetto 1 con etichetta: ('6', 1)\n",
      "Etichetto 2 con etichetta: ('6', 3)\n",
      "Etichetto 3 con etichetta: ('1', 1)\n",
      "Etichetto 4 con etichetta: ('1', 1)\n",
      "Etichetto 5 con etichetta: ('4', 1)\n",
      "Etichetto 7 con etichetta: ('5', 1)\n",
      "V =  4\n",
      "Etichetto 2 con etichetta: ('6', 3)\n",
      "Etichetto 1 con etichetta: ('2', 2)\n",
      "Etichetto 4 con etichetta: ('2', 3)\n",
      "Etichetto 3 con etichetta: ('2', 1)\n",
      "Etichetto 5 con etichetta: ('4', 3)\n",
      "Etichetto 7 con etichetta: ('5', 3)\n",
      "V =  7\n",
      "Arco da 1 a 3 con etichetta: 6/4/3\n",
      "Arco da 1 a 4 con etichetta: 5/4/1\n",
      "Arco da 2 a 1 con etichetta: 1/2/0\n",
      "Arco da 2 a 4 con etichetta: 4/3/3\n",
      "Arco da 2 a 3 con etichetta: 3/1/0\n",
      "Arco da 3 a 4 con etichetta: 3/2/0\n",
      "Arco da 3 a 5 con etichetta: 2/3/3\n",
      "Arco da 4 a 5 con etichetta: 5/5/4\n",
      "Iterazione  0\n",
      "rimuovo arco da 2 a 4 con capacità 0 e x 3\n",
      "rimuovo arco da 3 a 5 con capacità 0 e x 3\n",
      "Inizio ricerca di ciclo negativo\n",
      "{'1': '3', '2': '4', '3': '2', '4': '1', '5': '4'}\n",
      "Path [('4', '2'), ('2', '3'), ('3', '1'), ('1', '4')]\n",
      "Delta =  1\n",
      "Iterazione  1\n",
      "rimuovo arco da 2 a 3 con capacità 0 e x 1\n",
      "rimuovo arco da 3 a 5 con capacità 0 e x 3\n",
      "Inizio ricerca di ciclo negativo\n",
      "Finito\n",
      "Arco da 1 a 3 con etichetta: 6/4/2\n",
      "Arco da 1 a 4 con etichetta: 5/4/2\n",
      "Arco da 2 a 1 con etichetta: 1/2/0\n",
      "Arco da 2 a 4 con etichetta: 4/3/2\n",
      "Arco da 2 a 3 con etichetta: 3/1/1\n",
      "Arco da 3 a 4 con etichetta: 3/2/0\n",
      "Arco da 3 a 5 con etichetta: 2/3/3\n",
      "Arco da 4 a 5 con etichetta: 5/5/4\n"
     ]
    }
   ],
   "source": [
    "# Aggiungere nodi al grafo\n",
    "nodes = [('1', {'b':4}),\n",
    "              ('2', {'b':3}),\n",
    "              ('3', {'b':0}),\n",
    "              ('4', {'b':0}),\n",
    "              ('5', {'b':-7})]\n",
    "# Aggiungere archi con attributi di peso e capacità\n",
    "edges = [ ('1', '3', 6, 4,0), ('1', '4', 5, 4, 0),\n",
    "          ('2', '1', 1, 2, 0), ('2', '4', 4, 3, 0), ('2', '3', 3, 1, 0), \n",
    "          ('3', '4', 3, 2, 0), ('3', '5', 2, 3, 0), \n",
    "          ('4', '5', 5, 5, 0)\n",
    "        ]\n",
    "graph = createGraph(nodes, edges, True)\n",
    "writeGraph(graph)\n",
    "doc.generate_tex(tex_file)\n",
    "cycleCancelling(graph)"
   ]
  },
  {
   "cell_type": "code",
   "execution_count": 39,
   "id": "907e3223-9dba-4607-a4b1-78641f219385",
   "metadata": {},
   "outputs": [],
   "source": [
    "get_pdf()"
   ]
  },
  {
   "cell_type": "code",
   "execution_count": 40,
   "id": "afe2b255-a30d-4d31-84af-df16edee9edc",
   "metadata": {},
   "outputs": [],
   "source": [
    "# Creazione di un grafo diretto pesato con capacità sugli archi\n",
    "\n",
    "# Aggiungere nodi al grafo\n",
    "nodes = [('1', {'b':5}),\n",
    "              ('2', {'b':-1}),\n",
    "              ('3', {'b':-1}),\n",
    "              ('4', {'b':-1}),\n",
    "              ('5', {'b':-1}),\n",
    "              ('6', {'b':-1})\n",
    "        ]\n",
    "# Aggiungere archi con attributi di peso e capacità\n",
    "edges = [ ('1', '2', 2, 5,0), ('1', '3', 3, 5, 0), \n",
    "          ('2', '3', 2, 5, 0), ('2', '4', 4, 5, 0), ('2', '5', 3, 5, 0), \n",
    "          ('3', '5', 4, 5, 0), \n",
    "          ('4', '6', 3, 5, 0),\n",
    "          ('5', '4', 1, 5, 0), ('5', '6', 2, 5, 0) \n",
    "        ]\n",
    "graph = createGraph(nodes, edges, True)\n",
    "#graph.get_edge('1','2')\n",
    "writeGraph(graph, 1)\n",
    "#cycleCanceling(graph)"
   ]
  },
  {
   "cell_type": "code",
   "execution_count": 41,
   "id": "caaa3699-925d-4a4a-b5ee-2f2bf41845a5",
   "metadata": {},
   "outputs": [],
   "source": [
    "from pylatex import Document, Package, NoEscape\n",
    "# Percorso del file .tex esistente\n",
    "checkLatexFile()\n",
    "# Codice TikZ da aggiungere\n",
    "tikz_code = r'''\n",
    "\\begin{tikzpicture}\n",
    "\\draw[gray, thick] (-1,2) -- (2,-4);\n",
    "\\draw[gray, thick] (-1,-1) -- (2,2);\n",
    "\\filldraw[black] (0,0) circle (2pt) node[anchor=west]{Intersection point};\n",
    "\\end{tikzpicture}\n",
    "\n",
    "'''\n",
    "file = 'ricerca.tex'\n",
    "# Leggi il contenuto del file .tex esistente\n",
    "with open(file, 'r') as f:\n",
    "    tex_content = f.read()\n",
    "\n",
    "# Trova la posizione dell'\\end{document}\n",
    "end_document_pos = tex_content.find(r'\\end{document}')\n",
    "\n",
    "# Se \\end{document} è stato trovato, aggiungi il codice TikZ prima di esso\n",
    "if end_document_pos != -1:\n",
    "    new_tex_content = tex_content[:end_document_pos] + tikz_code + tex_content[end_document_pos:]\n",
    "        # Sovrascrivi il file .tex esistente con il nuovo contenuto\n",
    "    with open(file, 'w') as f:\n",
    "        f.write(new_tex_content)\n",
    "else:\n",
    "    print(\"Attenzione: Impossibile trovare \\\\end{document} nel file .tex\")"
   ]
  },
  {
   "cell_type": "code",
   "execution_count": null,
   "id": "d7546f24-eeef-4c85-91d9-d8b65b645e38",
   "metadata": {},
   "outputs": [],
   "source": [
    "graph.write_png('grafo.png')\n",
    "graph.write_dot('grafo.dot')\n",
    "\n",
    "# Percorso del file .dot\n",
    "file_dot = \"grafo.dot\"\n",
    "\n",
    "# Carica il file .dot\n",
    "graphll = pydot.graph_from_dot_file(file_dot)\n",
    "graphll = graphll[0]\n",
    "\n",
    "# Itera attraverso gli archi nel grafo\n",
    "for edge in graphll.get_edges():\n",
    "    # Verifica se l'arco ha un attributo \"pos\"\n",
    "    if 'pos' in edge.obj_dict['attributes']:\n",
    "        pos_attribute = edge.obj_dict['attributes']['pos']\n",
    "        # Verifica se l'attributo \"pos\" contiene più di due punti\n",
    "        print(len(pos_attribute.split()))\n",
    "        if isinstance(pos_attribute, str) and len(pos_attribute.split()) > 5:\n",
    "            print(\"L'arco\", edge.get_source(), \"->\", edge.get_destination(), \"è curvo.\")\n",
    "            pos_attribute = edge.obj_dict['attributes']['pos']\n",
    "            coordinates = pos_attribute.split(' ')[1:]  # Escludi il primo elemento (tipo di punto)\n",
    "            # Calcola la pendenza delle rette tra il primo e l'ultimo punto intermedi\n",
    "            x1, y1 = map(float, coordinates[0].split(','))\n",
    "            x2, y2 = map(float, coordinates[-1].strip('\"').split(','))\n",
    "            m_curve = (y2 - y1) / (x2 - x1)\n",
    "            # Calcola la pendenza delle tangenti alla curva nei punti finali dell'arco\n",
    "            x0, y0 = map(float, coordinates[0].split(','))\n",
    "            xn, yn = map(float, coordinates[-1].strip('\"').split(','))\n",
    "            m_tangent_start = (yn - y0) / (xn - x0)\n",
    "            x0, y0 = map(float, coordinates[-3].split(','))\n",
    "            xn, yn = map(float, coordinates[-2].strip('\"').split(','))\n",
    "            m_tangent_end = (yn - y0) / (xn - x0)\n",
    "            # Calcola l'angolo di curvatura\n",
    "            curvature_angle = angle_between_lines(m_tangent_start, m_tangent_end)\n",
    "            print(\"L'angolo di curvatura dell'arco\", edge.get_source(), \"->\", edge.get_destination(), \"è:\", curvature_angle)\n",
    "        else:\n",
    "            print(\"L'arco\", edge.get_source(), \"->\", edge.get_destination(), \"non è curvo.\")\n",
    "    else:\n",
    "        print(\"L'arco\", edge.get_source(), \"->\", edge.get_destination(), \"non ha l'attributo 'pos'.\")\n",
    "# Accedi ai nodi e agli archi\n",
    "\n",
    "for node in graphll.get_nodes():\n",
    "    print(\"Nodo:\", node.get_name())\n",
    "    # Accedi alle posizioni dei nodi se presenti\n",
    "    if node.get_attributes().get('pos'):\n",
    "        print(\"Posizione:\", node.get_attributes()['pos'])\n",
    "    \n",
    "for edge in graphll.get_edges():\n",
    "    print(\"Arco:\", edge.get_source(), \"->\", edge.get_destination())\n",
    "    # Accedi alle posizioni degli archi se presenti\n",
    "    if edge.get_attributes().get('pos'):\n",
    "        print(\"Posizione:\", edge.get_attributes()['pos'])\n",
    "\n"
   ]
  }
 ],
 "metadata": {
  "kernelspec": {
   "display_name": "Python 3 (ipykernel)",
   "language": "python",
   "name": "python3"
  },
  "language_info": {
   "codemirror_mode": {
    "name": "ipython",
    "version": 3
   },
   "file_extension": ".py",
   "mimetype": "text/x-python",
   "name": "python",
   "nbconvert_exporter": "python",
   "pygments_lexer": "ipython3",
   "version": "3.11.8"
  }
 },
 "nbformat": 4,
 "nbformat_minor": 5
}
